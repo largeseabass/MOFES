{
 "cells": [
  {
   "cell_type": "markdown",
   "metadata": {},
   "source": [
    "## Spin Up added! Reflective Boundary Condition.\n",
    "\n",
    "2025.03.28."
   ]
  },
  {
   "cell_type": "markdown",
   "metadata": {},
   "source": [
    "#### problem setup\n",
    "\n",
    "The purpose of this script is to step-by-step implement the 3 PDEs describing mosquito's behaviour in FEniCSx. For more details, please refer to our pre-print.\n",
    "\n",
    "stagnated water field and wind field shall all be supplied as NETCDF files (.nc).\n",
    "\n",
    "\n",
    "### (1) The simplified testcase with three equations\n",
    "\n",
    "\n",
    "$\\frac{\\partial M}{\\partial t} - \\nabla \\cdot (D \\nabla M) + \\mu_1 M - \\gamma A + c_{v} \\nabla \\cdot (\\vec{v} M)= 0$\n",
    "\n",
    "$\\frac{\\partial E}{\\partial t} - rM + eE= 0$\n",
    "\n",
    "$\\frac{\\partial A}{\\partial t} - e(1-\\frac{A}{k})E + (\\mu_2 + \\gamma ) A= 0$\n",
    "\n",
    "where M is the mobile phase population density, E is the egg phase population density, A is the aquatic phase population density, D is the diffusion coefficient ($m^2$/day), $\\mu_1$ is the mobile phase mortility rate (/day), $\\mu_2$ is the immobile phase mortility rate (/day), r is the oviation rate of females, e is the hatching rate, $\\gamma$ is the immobile phase maturation rate, k is the carrying capacity (1/$m^2$), $c_v$ is the coefficient of convection caused by wind.\n",
    "\n",
    "\n"
   ]
  },
  {
   "cell_type": "markdown",
   "metadata": {},
   "source": [
    "### (2) Variational Formulation\n",
    "\n",
    "this section will be implemented following: https://fenicsproject.org/pub/tutorial/html/._ftut1010.html\n",
    "\n",
    "Numerical Scheme: backward Euler and Finite Element.\n",
    "\n",
    "Define the domain: $\\Omega = [0,1] \\times [0,1]$\n",
    "\n",
    "Boundary condition: Dirichlet, $M|_{\\partial \\Omega} = 0$, $E|_{\\partial \\Omega} = 0$, $A|_{\\partial \\Omega} = 0$.\n",
    "\n",
    "\n",
    "(Comparing to Forward Euler, we choose backward Euler since we will start with a large time step.)\n",
    "\n",
    "\n",
    "\n",
    "\n",
    "With backward Euler, denote $M^n = M(x,y,t^n)$\n",
    "\n",
    "$ \\frac{M^{n+1}-M^n}{\\Delta t}- \\nabla \\cdot (D \\nabla M^{n+1}) + \\mu_1 M^{n+1} -\\gamma A^{n+1} + c_{v} \\nabla \\cdot (\\vec{v} M^{n+1}) = 0$, $\\Omega \\times (0,T]$\n",
    "\n",
    "\n",
    "$ \\frac{E^{n+1}-E^n}{\\Delta t}- rM^{n+1} + eE^{n+1} = 0$, $\\Omega \\times (0,T]$\n",
    "\n",
    "\n",
    "$ \\frac{A^{n+1}-A^n}{\\Delta t}- e(1-\\frac{A^{n+1}}{k})E^{n+1} + (\\mu_2 + \\gamma ) A^{n+1}= 0$, $\\Omega \\times (0,T]$\n",
    "\n",
    "\n",
    "Total time: T = 1 day, steps = 50, and we use timestep $\\Delta t = T/steps$.\n",
    "\n",
    "#### > Variational Formulation\n",
    "\n",
    "$V=\\{v\\in H^1(\\Omega)| v=0 $ on $ \\partial \\Omega\\}$\n",
    "\n",
    "$\\hat{V}=\\{v\\in H^1(\\Omega)| v=0 $ on $ \\partial \\Omega\\}$\n",
    "\n",
    "Find $u_1^{n+1}, u_2^{n+1}, u_3^{n+1} \\in V$ such that \n",
    "\n",
    "$\\int_\\Omega (\\frac{u_1^{n+1}-u_1^n}{\\Delta t}v_1 +D\\nabla u_1^{n+1} \\cdot \\nabla v_1 + \\mu_1 u_1^{n+1} v_1 + \\gamma u_3^{n+1} v_1 + c_{v} \\nabla \\cdot (\\vec{v} u_1^{n+1})v_1)\\textbf{dx} = 0$,    \n",
    "\n",
    "$\\int_\\Omega (\\frac{u_2^{n+1}-u_2^n}{\\Delta t}v_2 -r u_1^{n+1}v_2 + e u_2^{n+1}v_2)\\textbf{dx} = 0$,     \n",
    "\n",
    "$\\int_\\Omega (\\frac{u_3^{n+1}-u_3^n}{\\Delta t}v_3 -e(1-\\frac{u_3^{n+1}}{k})u_2^{n+1}v_3 + (\\mu_2 + \\gamma ) u_3^{n+1}v_3)\\textbf{dx} = 0$,      \n",
    "\n",
    "$\\forall v_1, v_2, v_3 \\in \\hat{V}$\n",
    "\n",
    "\n",
    "\n",
    "Organize them into one large equation:\n",
    "\n",
    "$\\int_\\Omega (\\frac{u_1^{n+1}-u_1^n}{\\Delta t}v_1 +D\\nabla u_1^{n+1} \\cdot \\nabla v_1 + \\mu_1 u_1^{n+1} v_1 + \\gamma u_3^{n+1} v_1 + c_{v} \\nabla \\cdot (\\vec{v} u_1^{n+1})v_1))\\textbf{dx} + \\int_\\Omega (\\frac{u_2^{n+1}-u_2^n}{\\Delta t}v_2 -r u_1^{n+1}v_2 + e u_2^{n+1}v_2)\\textbf{dx} + \\int_\\Omega (\\frac{u_3^{n+1}-u_3^n}{\\Delta t}v_3 -e(1-\\frac{u_3^{n+1}}{k})u_2^{n+1}v_3 + (\\mu_2 + \\gamma ) u_3^{n+1}v_3)\\textbf{dx} = 0$\n",
    "\n",
    "\n",
    "#### > Apply finite element method by instead finding the u, v in discretize space $V_h \\subset V, \\hat{V_h} \\subset \\hat{V}$. \n",
    "\n",
    "In FEniCSX, we choose first order Lagrange as function space.\n",
    "\n",
    "Find $u_{1h}^{n+1}, u_{2h}^{n+1},u_{3h}^{n+1}\\in V_h$ such that \n",
    "\n",
    "$\\int_\\Omega (\\frac{u_{1h}^{n+1}-u_{1h}^n}{\\Delta t}v_1 +D\\nabla u_{1h}^{n+1} \\cdot \\nabla v_{1h} + \\mu_1 u_{1h}^{n+1} v_1 + \\gamma u_{3h}^{n+1} v_1 )\\textbf{dx} + \\int_\\Omega (\\frac{u_{2h}^{n+1}-u_{2h}^n}{\\Delta t}v_2 -r u_{1h}^{n+1}v_2 + e u_{2h}^{n+1}v_2)\\textbf{dx} + \\int_\\Omega (\\frac{u_{3h}^{n+1}-u_{3h}^n}{\\Delta t}v_3 -e(1-\\frac{u_{3h}^{n+1}}{k})u_{2h}^{n+1}v_3 + (\\mu_2 + \\gamma ) u_{3h}^{n+1}v_3)\\textbf{dx} = 0$, $\\forall v_{1h}, v_{2h}, v_{3h} \\in \\hat{V_h}$\n",
    "\n",
    "\n",
    "\n"
   ]
  },
  {
   "cell_type": "markdown",
   "metadata": {},
   "source": [
    "### Reflective Boundary Condition is applied for Spin-up.\n",
    "\n",
    "[from perplexity]\n",
    "\n",
    "Advantages:\n",
    "* Realistic Representation of Physical Barriers: Reflective conditions can effectively model physical barriers or boundaries in a geographical area, such as coastlines or mountain ranges, where mosquitoes might \"bounce off\" or change direction upon encountering these barriers.\n",
    "* Applicability to Heterogeneous Landscapes: Reflective conditions can better capture the dynamics of mosquito populations in areas with diverse habitats or barriers, as they allow for the simulation of realistic boundary interactions.\n",
    "\n",
    "Disadvantages:\n",
    "* Potential for Unrealistic Behavior: If not properly implemented, reflective conditions might lead to unrealistic behavior, such as mosquitoes accumulating at boundaries without dispersing further.\n",
    "* Increased Complexity: Reflective conditions can introduce additional complexity in terms of modeling the interactions between mosquitoes and the environment at these boundaries."
   ]
  },
  {
   "cell_type": "markdown",
   "metadata": {},
   "source": [
    "## Gaussian Random Field Range for Spin Up\n",
    "\n",
    "u_1: mobile phase, u_2: egg phase, u_3: aquatic phase\n",
    "\n",
    "{'u_1_min_val': 0.0, 'u_1_max_val': 0.02, \n",
    "                    'u_2_min_val': 0.0, 'u_2_max_val': 0.02, \n",
    "                    'u_3_min_val': 0.0, 'u_3_max_val': 0.02}"
   ]
  },
  {
   "cell_type": "code",
   "execution_count": 1,
   "metadata": {},
   "outputs": [],
   "source": [
    "import time\n",
    "from pathlib import Path\n",
    "from mofes import Cartesian_MosquitoSolver, Neches_problem_settings\n",
    "\n",
    "# Get the current directory of this script\n",
    "try:\n",
    "    this_dir = Path(__file__).resolve().parent\n",
    "except NameError:\n",
    "    # Fallback for interactive environments\n",
    "    this_dir = Path.cwd()\n",
    "\n"
   ]
  },
  {
   "cell_type": "markdown",
   "metadata": {},
   "source": [
    "'period': the total number of days (float) to run the simulation;\n",
    "'steps': total number of time steps;\n",
    "'nx': total number of cells in x-direction in the mesh;\n",
    "'ny': total number of cells in y-direction in the mesh;\n",
    "\n",
    "'stations': the np.array of np.array of coordinates (latitude, longitude) of all the traps locations;\n",
    "'station_observe_days': the np.array of [t_start, t_end], which tells MOFES between which two days (float) shall it perform integration and compute the simulated trapped mosquito numbers. \n",
    "\n",
    "All the other parameters are the model parameters as stated in the manuscript."
   ]
  },
  {
   "cell_type": "code",
   "execution_count": 2,
   "metadata": {},
   "outputs": [
    {
     "name": "stdout",
     "output_type": "stream",
     "text": [
      "Coordinates outside the domain:\n",
      "(30.0617, -94.12863)\n",
      "(30.06157, -94.13016)\n",
      "(30.06717, -94.12863)\n",
      "Station coordinates within the domain: (30.09694, -94.1052)\n",
      "Station coordinates within the domain: (30.03911, -94.0026)\n",
      "Station coordinates within the domain: (30.12529, -94.11944)\n",
      "Station coordinates within the domain: (29.96163, -94.04143)\n",
      "Station coordinates within the domain: (30.0558, -94.09067)\n",
      "Station coordinates within the domain: (30.03911, -94.0926)\n"
     ]
    },
    {
     "ename": "AttributeError",
     "evalue": "'Cell' object has no attribute 'name'",
     "output_type": "error",
     "traceback": [
      "\u001b[31m---------------------------------------------------------------------------\u001b[39m",
      "\u001b[31mAttributeError\u001b[39m                            Traceback (most recent call last)",
      "\u001b[36mCell\u001b[39m\u001b[36m \u001b[39m\u001b[32mIn[2]\u001b[39m\u001b[32m, line 32\u001b[39m\n\u001b[32m      2\u001b[39m spin_up_problem_setting = Neches_problem_settings(\n\u001b[32m      3\u001b[39m     diffusion_coefficient=\u001b[32m18969\u001b[39m,  \u001b[38;5;66;03m# m^2/day\u001b[39;00m\n\u001b[32m      4\u001b[39m     mu_1=\u001b[32m0.1177\u001b[39m,  \u001b[38;5;66;03m# 1/day \u001b[39;00m\n\u001b[32m   (...)\u001b[39m\u001b[32m     28\u001b[39m     station_observe_days=[\u001b[32m2.0\u001b[39m, \u001b[32m4.0\u001b[39m]\n\u001b[32m     29\u001b[39m )\n\u001b[32m     31\u001b[39m \u001b[38;5;66;03m# Initialize the solver\u001b[39;00m\n\u001b[32m---> \u001b[39m\u001b[32m32\u001b[39m spin_up_solver_setting = \u001b[43mCartesian_MosquitoSolver\u001b[49m\u001b[43m(\u001b[49m\u001b[43mspin_up_problem_setting\u001b[49m\u001b[43m)\u001b[49m\n\u001b[32m     34\u001b[39m \u001b[38;5;66;03m# Run the simulation\u001b[39;00m\n\u001b[32m     35\u001b[39m start = time.time()\n",
      "\u001b[36mFile \u001b[39m\u001b[32m~/Documents/GitHub/MOFES/mofes/solver.py:127\u001b[39m, in \u001b[36mCartesian_MosquitoSolver.__init__\u001b[39m\u001b[34m(self, problem_settings)\u001b[39m\n\u001b[32m    124\u001b[39m \u001b[38;5;28mself\u001b[39m.x = ufl.SpatialCoordinate(\u001b[38;5;28mself\u001b[39m.domain)\n\u001b[32m    126\u001b[39m \u001b[38;5;66;03m# Define the function space\u001b[39;00m\n\u001b[32m--> \u001b[39m\u001b[32m127\u001b[39m \u001b[38;5;28mself\u001b[39m.P1 = \u001b[43melement\u001b[49m\u001b[43m(\u001b[49m\u001b[33;43m\"\u001b[39;49m\u001b[33;43mLagrange\u001b[39;49m\u001b[33;43m\"\u001b[39;49m\u001b[43m,\u001b[49m\u001b[43m \u001b[49m\u001b[38;5;28;43mself\u001b[39;49m\u001b[43m.\u001b[49m\u001b[43mdomain\u001b[49m\u001b[43m.\u001b[49m\u001b[43mufl_cell\u001b[49m\u001b[43m(\u001b[49m\u001b[43m)\u001b[49m\u001b[43m,\u001b[49m\u001b[43m \u001b[49m\u001b[32;43m1\u001b[39;49m\u001b[43m)\u001b[49m\n\u001b[32m    128\u001b[39m \u001b[38;5;28mself\u001b[39m.V = fem.FunctionSpace(\u001b[38;5;28mself\u001b[39m.domain, ufl.MixedElement([\u001b[38;5;28mself\u001b[39m.P1, \u001b[38;5;28mself\u001b[39m.P1, \u001b[38;5;28mself\u001b[39m.P1]))\n\u001b[32m    130\u001b[39m \u001b[38;5;66;03m# Define test and trial functions\u001b[39;00m\n",
      "\u001b[36mFile \u001b[39m\u001b[32m~/anaconda3/envs/mofes-env/lib/python3.12/site-packages/basix/ufl.py:2038\u001b[39m, in \u001b[36melement\u001b[39m\u001b[34m(family, cell, degree, lagrange_variant, dpc_variant, discontinuous, shape, symmetry, dtype)\u001b[39m\n\u001b[32m   2035\u001b[39m     \u001b[38;5;28;01mif\u001b[39;00m family == \u001b[33m\"\u001b[39m\u001b[33mDPC\u001b[39m\u001b[33m\"\u001b[39m:\n\u001b[32m   2036\u001b[39m         discontinuous = \u001b[38;5;28;01mTrue\u001b[39;00m\n\u001b[32m-> \u001b[39m\u001b[32m2038\u001b[39m     family = _basix.finite_element.string_to_family(family, \u001b[43mcell\u001b[49m\u001b[43m.\u001b[49m\u001b[43mname\u001b[49m)\n\u001b[32m   2040\u001b[39m \u001b[38;5;66;03m# Default variant choices\u001b[39;00m\n\u001b[32m   2041\u001b[39m EF = _basix.ElementFamily\n",
      "\u001b[31mAttributeError\u001b[39m: 'Cell' object has no attribute 'name'"
     ]
    }
   ],
   "source": [
    "# Create the problem setting\n",
    "spin_up_problem_setting = Neches_problem_settings(\n",
    "    diffusion_coefficient=18969,  # m^2/day\n",
    "    mu_1=0.1177,  # 1/day \n",
    "    mu_2=0.0250,  # 1/day\n",
    "    oviation_rate=34,  # 1/day\n",
    "    hatching_rate=0.24,  # 1/day\n",
    "    immobile_maturation_rate=0.0625,  # 1/day \n",
    "    carrying_capacity=0.0590,  # 1/m^2\n",
    "    constant_for_mobile=0.01,                                                  \n",
    "    period=4.0, \n",
    "    steps=40, \n",
    "    nx=100, \n",
    "    ny=100, \n",
    "    save_path=str(this_dir.parent / \"results\" / \"spin_up_problem_setting6_4daySpinUp\"), \n",
    "    output_name=\"250_250_10_wind0.004\", \n",
    "    stag_path=str(this_dir.parent / \"data\"/ \"stag-water\"), \n",
    "    flag_spinup=True,\n",
    "    flag_advection=True,\n",
    "    flag_observation=True,\n",
    "    wind_path=str(this_dir.parent / \"data\"/\"wind\" / \"14d495d5fc8e218b01eca6895328d3ab.nc\"),\n",
    "    constant_for_wind=0.004, \n",
    "    stations=[\n",
    "        [30.09694, -94.1052], [30.0617, -94.12863], [30.06157, -94.13016],\n",
    "        [30.03911, -94.0026], [30.06717, -94.12863], [30.12529, -94.11944],\n",
    "        [29.96163, -94.04143], [30.0558, -94.09067], [30.03911, -94.0926]\n",
    "    ], \n",
    "    station_observe_days=[2.0, 4.0]\n",
    ")\n",
    "\n",
    "# Initialize the solver\n",
    "spin_up_solver_setting = Cartesian_MosquitoSolver(spin_up_problem_setting)\n",
    "\n",
    "# Run the simulation\n",
    "start = time.time()\n",
    "spin_up_solver_setting.spin_up()\n",
    "spin_up_solver_setting.solve_mosquito()\n",
    "end = time.time()\n",
    "\n",
    "print(\"Time elapsed: \", end - start)\n"
   ]
  }
 ],
 "metadata": {
  "kernelspec": {
   "display_name": "mofes-env",
   "language": "python",
   "name": "python3"
  },
  "language_info": {
   "codemirror_mode": {
    "name": "ipython",
    "version": 3
   },
   "file_extension": ".py",
   "mimetype": "text/x-python",
   "name": "python",
   "nbconvert_exporter": "python",
   "pygments_lexer": "ipython3",
   "version": "3.12.10"
  }
 },
 "nbformat": 4,
 "nbformat_minor": 2
}
